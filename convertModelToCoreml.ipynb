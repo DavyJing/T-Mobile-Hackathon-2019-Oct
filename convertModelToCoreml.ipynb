{
 "cells": [
  {
   "cell_type": "markdown",
   "metadata": {},
   "source": [
    "version required:keras==2.2.4 and tensorflow==1.13.1.\n"
   ]
  },
  {
   "cell_type": "code",
   "execution_count": 1,
   "metadata": {},
   "outputs": [
    {
     "name": "stderr",
     "output_type": "stream",
     "text": [
      "/Users/jessica/opt/anaconda3/lib/python3.7/site-packages/tensorflow/python/framework/dtypes.py:526: FutureWarning: Passing (type, 1) or '1type' as a synonym of type is deprecated; in a future version of numpy, it will be understood as (type, (1,)) / '(1,)type'.\n",
      "  _np_qint8 = np.dtype([(\"qint8\", np.int8, 1)])\n",
      "/Users/jessica/opt/anaconda3/lib/python3.7/site-packages/tensorflow/python/framework/dtypes.py:527: FutureWarning: Passing (type, 1) or '1type' as a synonym of type is deprecated; in a future version of numpy, it will be understood as (type, (1,)) / '(1,)type'.\n",
      "  _np_quint8 = np.dtype([(\"quint8\", np.uint8, 1)])\n",
      "/Users/jessica/opt/anaconda3/lib/python3.7/site-packages/tensorflow/python/framework/dtypes.py:528: FutureWarning: Passing (type, 1) or '1type' as a synonym of type is deprecated; in a future version of numpy, it will be understood as (type, (1,)) / '(1,)type'.\n",
      "  _np_qint16 = np.dtype([(\"qint16\", np.int16, 1)])\n",
      "/Users/jessica/opt/anaconda3/lib/python3.7/site-packages/tensorflow/python/framework/dtypes.py:529: FutureWarning: Passing (type, 1) or '1type' as a synonym of type is deprecated; in a future version of numpy, it will be understood as (type, (1,)) / '(1,)type'.\n",
      "  _np_quint16 = np.dtype([(\"quint16\", np.uint16, 1)])\n",
      "/Users/jessica/opt/anaconda3/lib/python3.7/site-packages/tensorflow/python/framework/dtypes.py:530: FutureWarning: Passing (type, 1) or '1type' as a synonym of type is deprecated; in a future version of numpy, it will be understood as (type, (1,)) / '(1,)type'.\n",
      "  _np_qint32 = np.dtype([(\"qint32\", np.int32, 1)])\n",
      "/Users/jessica/opt/anaconda3/lib/python3.7/site-packages/tensorflow/python/framework/dtypes.py:535: FutureWarning: Passing (type, 1) or '1type' as a synonym of type is deprecated; in a future version of numpy, it will be understood as (type, (1,)) / '(1,)type'.\n",
      "  np_resource = np.dtype([(\"resource\", np.ubyte, 1)])\n"
     ]
    },
    {
     "name": "stdout",
     "output_type": "stream",
     "text": [
      "WARNING:tensorflow:From /Users/jessica/opt/anaconda3/lib/python3.7/site-packages/tensorflow/python/framework/op_def_library.py:263: colocate_with (from tensorflow.python.framework.ops) is deprecated and will be removed in a future version.\n",
      "Instructions for updating:\n",
      "Colocations handled automatically by placer.\n",
      "WARNING:tensorflow:From /Users/jessica/opt/anaconda3/lib/python3.7/site-packages/keras/backend/tensorflow_backend.py:3445: calling dropout (from tensorflow.python.ops.nn_ops) with keep_prob is deprecated and will be removed in a future version.\n",
      "Instructions for updating:\n",
      "Please use `rate` instead of `keep_prob`. Rate should be set to `rate = 1 - keep_prob`.\n",
      "WARNING:tensorflow:From /Users/jessica/opt/anaconda3/lib/python3.7/site-packages/tensorflow/python/ops/math_ops.py:3066: to_int32 (from tensorflow.python.ops.math_ops) is deprecated and will be removed in a future version.\n",
      "Instructions for updating:\n",
      "Use tf.cast instead.\n",
      "0 : input_2, <keras.engine.input_layer.InputLayer object at 0xa260a5e10>\n",
      "1 : block1_conv1, <keras.layers.convolutional.Conv2D object at 0xa260a5e90>\n",
      "2 : block1_conv1__activation__, <keras.layers.core.Activation object at 0xa260798d0>\n",
      "3 : block1_conv2, <keras.layers.convolutional.Conv2D object at 0xa260b2050>\n",
      "4 : block1_conv2__activation__, <keras.layers.core.Activation object at 0xa2a6ddfd0>\n",
      "5 : block1_pool, <keras.layers.pooling.MaxPooling2D object at 0xa260b24d0>\n",
      "6 : block2_conv1, <keras.layers.convolutional.Conv2D object at 0xa260b2790>\n",
      "7 : block2_conv1__activation__, <keras.layers.core.Activation object at 0xa2a6dddd0>\n",
      "8 : block2_conv2, <keras.layers.convolutional.Conv2D object at 0xa260b2890>\n",
      "9 : block2_conv2__activation__, <keras.layers.core.Activation object at 0xa2a6ddf10>\n",
      "10 : block2_pool, <keras.layers.pooling.MaxPooling2D object at 0xa260b2a90>\n",
      "11 : block3_conv1, <keras.layers.convolutional.Conv2D object at 0xa260b2c90>\n",
      "12 : block3_conv1__activation__, <keras.layers.core.Activation object at 0xa2a6b6e50>\n",
      "13 : block3_conv2, <keras.layers.convolutional.Conv2D object at 0xa260b2d90>\n",
      "14 : block3_conv2__activation__, <keras.layers.core.Activation object at 0xa2a6cb290>\n",
      "15 : block3_conv3, <keras.layers.convolutional.Conv2D object at 0xa260c8150>\n",
      "16 : block3_conv3__activation__, <keras.layers.core.Activation object at 0xa264a2890>\n",
      "17 : block3_pool, <keras.layers.pooling.MaxPooling2D object at 0xa260c81d0>\n",
      "18 : block4_conv1, <keras.layers.convolutional.Conv2D object at 0xa260c83d0>\n",
      "19 : block4_conv1__activation__, <keras.layers.core.Activation object at 0xa264a2910>\n",
      "20 : block4_conv2, <keras.layers.convolutional.Conv2D object at 0xa260c84d0>\n",
      "21 : block4_conv2__activation__, <keras.layers.core.Activation object at 0xa25658fd0>\n",
      "22 : block4_conv3, <keras.layers.convolutional.Conv2D object at 0xa260c86d0>\n",
      "23 : block4_conv3__activation__, <keras.layers.core.Activation object at 0xa26097c90>\n",
      "24 : block4_pool, <keras.layers.pooling.MaxPooling2D object at 0xa260c88d0>\n",
      "25 : block5_conv1, <keras.layers.convolutional.Conv2D object at 0xa260c8ad0>\n",
      "26 : block5_conv1__activation__, <keras.layers.core.Activation object at 0xa26097bd0>\n",
      "27 : block5_conv2, <keras.layers.convolutional.Conv2D object at 0xa260c8bd0>\n",
      "28 : block5_conv2__activation__, <keras.layers.core.Activation object at 0xa26097a50>\n",
      "29 : block5_conv3, <keras.layers.convolutional.Conv2D object at 0xa260c8dd0>\n",
      "30 : block5_conv3__activation__, <keras.layers.core.Activation object at 0xa26097f90>\n",
      "31 : block5_pool, <keras.layers.pooling.MaxPooling2D object at 0xa260cf190>\n",
      "32 : flatten_2, <keras.layers.core.Flatten object at 0xa260cf210>\n",
      "33 : fc1, <keras.layers.core.Dense object at 0xa260cf250>\n",
      "34 : fc1__activation__, <keras.layers.core.Activation object at 0xa26097f10>\n",
      "35 : fc2, <keras.layers.core.Dense object at 0xa260cf0d0>\n",
      "36 : fc2__activation__, <keras.layers.core.Activation object at 0xa26097e90>\n",
      "37 : fc3, <keras.layers.core.Dense object at 0xa260cf4d0>\n",
      "38 : fc3__activation__, <keras.layers.core.Activation object at 0xa26097e10>\n",
      "39 : fc4, <keras.layers.core.Dense object at 0xa260cf810>\n",
      "40 : fc4__activation__, <keras.layers.core.Activation object at 0xa26097d90>\n",
      "41 : dense_2, <keras.layers.core.Dense object at 0xa260cf750>\n",
      "42 : dense_2__activation__, <keras.layers.core.Activation object at 0xa26097cd0>\n"
     ]
    }
   ],
   "source": [
    "import coremltools\n",
    "import tensorflow\n",
    "\n",
    "core_ml=coremltools.converters.keras.convert('VGG_cross_validated.h5')\n"
   ]
  },
  {
   "cell_type": "code",
   "execution_count": 3,
   "metadata": {},
   "outputs": [],
   "source": [
    "core_ml.save('Hackcoreml_model.mlmodel')"
   ]
  },
  {
   "cell_type": "code",
   "execution_count": null,
   "metadata": {},
   "outputs": [],
   "source": []
  }
 ],
 "metadata": {
  "kernelspec": {
   "display_name": "Python 3",
   "language": "python",
   "name": "python3"
  },
  "language_info": {
   "codemirror_mode": {
    "name": "ipython",
    "version": 3
   },
   "file_extension": ".py",
   "mimetype": "text/x-python",
   "name": "python",
   "nbconvert_exporter": "python",
   "pygments_lexer": "ipython3",
   "version": "3.7.4"
  }
 },
 "nbformat": 4,
 "nbformat_minor": 2
}
